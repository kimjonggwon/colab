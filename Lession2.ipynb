{
  "nbformat": 4,
  "nbformat_minor": 0,
  "metadata": {
    "colab": {
      "name": "Lession2.ipynb",
      "provenance": [],
      "authorship_tag": "ABX9TyOrhjIe5ILyZQrq2QvPZiJR",
      "include_colab_link": true
    },
    "kernelspec": {
      "name": "python3",
      "display_name": "Python 3"
    },
    "language_info": {
      "name": "python"
    }
  },
  "cells": [
    {
      "cell_type": "markdown",
      "metadata": {
        "id": "view-in-github",
        "colab_type": "text"
      },
      "source": [
        "<a href=\"https://colab.research.google.com/github/kimjonggwon/colab/blob/main/Lession2.ipynb\" target=\"_parent\"><img src=\"https://colab.research.google.com/assets/colab-badge.svg\" alt=\"Open In Colab\"/></a>"
      ]
    },
    {
      "cell_type": "markdown",
      "source": [
        "* 파이썬 2장\n",
        " ** 변수와 input()함수"
      ],
      "metadata": {
        "id": "tttEpDs_B4ea"
      }
    },
    {
      "cell_type": "code",
      "execution_count": null,
      "metadata": {
        "colab": {
          "base_uri": "https://localhost:8080/"
        },
        "id": "snGSNZ-CA_Kl",
        "outputId": "05166c4e-0f84-4b28-adb6-2b0e0404d0fd"
      },
      "outputs": [
        {
          "output_type": "stream",
          "name": "stdout",
          "text": [
            "100 + 200 = 300\n",
            "100 - 200 = -100\n",
            "100 / 200 = 0.5\n",
            "100 * 200 = 20000\n"
          ]
        }
      ],
      "source": [
        "num1 = 100\n",
        "num2 = 200\n",
        "result1 = num1 + num2\n",
        "result2 = num1 - num2\n",
        "result3 = num1 / num2\n",
        "result4 = num1 * num2\n",
        "print(num1, \"+\", num2, \"=\", result1)\n",
        "print(num1, \"-\", num2, \"=\", result2)\n",
        "print(num1, \"/\", num2, \"=\", result3)\n",
        "print(num1, \"*\", num2, \"=\", result4)"
      ]
    },
    {
      "cell_type": "markdown",
      "source": [
        "- input()함수 예제"
      ],
      "metadata": {
        "id": "kq8YSZIiGcd0"
      }
    },
    {
      "cell_type": "code",
      "source": [
        "num1 = input(\"첫번째 숫자 입력 ==>\")\n",
        "num2 = input(\"두번째 숫자 입력 ==>\")\n",
        "result = num1 + num2\n",
        "print(num1, \"+\", num2, \"=\", result)"
      ],
      "metadata": {
        "colab": {
          "base_uri": "https://localhost:8080/"
        },
        "id": "gH6i8JXgGjka",
        "outputId": "09647b15-d10b-4ce6-f9fe-a9bf57bcb119"
      },
      "execution_count": null,
      "outputs": [
        {
          "output_type": "stream",
          "name": "stdout",
          "text": [
            "첫번째 숫자 입력 ==>100\n",
            "두번째 숫자 입력 ==>200\n",
            "100 + 200 = 100200\n"
          ]
        }
      ]
    },
    {
      "cell_type": "markdown",
      "source": [
        " - input 함수를 이용한 계산기"
      ],
      "metadata": {
        "id": "Ek6grDeQJy95"
      }
    },
    {
      "cell_type": "code",
      "source": [
        "print(\"** 논술형 문제 - input()함수를 이용한 간단한 계산기 ** \")\n",
        "num1 = float(input(\"첫번째 숫자를 입력 : \"))\n",
        "num2 = float(input(\"두번째 숫자를 입력 : \"))\n",
        "print(num1, \"+\", num2, \"=\", num1 + num2)\n",
        "print(num1, \"-\", num2, \"=\", num1 - num2)\n",
        "print(num1, \"x\", num2, \"=\", num1 * num2)\n",
        "print(num1, \"/\", num2, \"=\", num1 / num2)"
      ],
      "metadata": {
        "colab": {
          "base_uri": "https://localhost:8080/"
        },
        "id": "Iav6yr1YJwla",
        "outputId": "7241207c-aae8-4a24-8b6a-b13150644059"
      },
      "execution_count": null,
      "outputs": [
        {
          "output_type": "stream",
          "name": "stdout",
          "text": [
            "** 논술형 문제 - input()함수를 이용한 간단한 계산기 ** \n",
            "첫번째 숫자를 입력 : 100\n",
            "두번째 숫자를 입력 : 200\n",
            "100.0 + 200.0 = 300.0\n",
            "100.0 - 200.0 = -100.0\n",
            "100.0 x 200.0 = 20000.0\n",
            "100.0 / 200.0 = 0.5\n"
          ]
        }
      ]
    },
    {
      "cell_type": "code",
      "source": [
        "name = input(\"이름 ==> \")\n",
        "tel_number = input(\"전화번호 ==> \")\n",
        "print(\"제 이름은\" , name, \"연락처는\", tel_number, \"입니다.\")"
      ],
      "metadata": {
        "colab": {
          "base_uri": "https://localhost:8080/"
        },
        "id": "O9S_gVbqPqcx",
        "outputId": "f61f8117-6822-45e3-a5c0-af46fe886476"
      },
      "execution_count": null,
      "outputs": [
        {
          "output_type": "stream",
          "name": "stdout",
          "text": [
            "이름 ==> 김종권\n",
            "전화번호 ==> 010-8213-7471\n",
            "제 이름은 김종권 연락처는 010-8213-7471 입니다.\n"
          ]
        }
      ]
    },
    {
      "cell_type": "code",
      "source": [
        "print(\"## 택배를 보내기 위한 정보를 입력하세요. ##\")\n",
        "personname = input(\"받는 사람 : \")\n",
        "personAddr = input(\"주소 : \")\n",
        "weight = int(input(\" 무게(g) : \"))\n",
        "\n",
        "print(\"** 받는 사람 ==>\", personname)\n",
        "print(\"** 주소 =>\", personAddr)\n",
        "\n",
        "print(\"** 배송비 ==>\", weight * 5, \"원\")"
      ],
      "metadata": {
        "id": "380zWa4ZRBz6"
      },
      "execution_count": null,
      "outputs": []
    },
    {
      "cell_type": "code",
      "source": [
        "num1 = int(input(\"숫자1 ==> \"))\n",
        "num2 = int(input(\"숫자2 ==> \"))\n",
        "\n",
        "result1 = num1 + num2\n",
        "result2 = num1 - num2\n",
        "result3 = num1 * num2\n",
        "result4 = num1 / num2\n",
        "result5 = num1 % num2\n",
        "result6 = num1 ** num2\n",
        "\n",
        "print(num1, \"+\", num2, \"=\", result1)\n",
        "print(num1, \"-\", num2, \"=\", result2)\n",
        "print(num1, \"*\", num2, \"=\", result3)\n",
        "print(num1, \"/\", num2, \"=\", result4)\n",
        "print(num1, \"%\", num2, \"=\", result5)\n",
        "print(num1, \"**\", num2, \"=\", result6)"
      ],
      "metadata": {
        "colab": {
          "base_uri": "https://localhost:8080/"
        },
        "id": "tol2roaDUB-6",
        "outputId": "f61aa8c5-828e-413f-a30b-4d911918c39e"
      },
      "execution_count": null,
      "outputs": [
        {
          "output_type": "stream",
          "name": "stdout",
          "text": [
            "숫자1 ==> 100\n",
            "숫자2 ==> 10\n",
            "100 + 10 = 110\n",
            "100 - 10 = 90\n",
            "100 * 10 = 1000\n",
            "100 / 10 = 10.0\n",
            "100 % 10 = 0\n",
            "100 ** 10 = 100000000000000000000\n"
          ]
        }
      ]
    },
    {
      "cell_type": "code",
      "source": [
        "#!pip3 install ColabTurtle\n",
        "import ColabTurtle.Turtle as turtle\n",
        "\n",
        "turtle.initializeTurtle()\n"
      ],
      "metadata": {
        "id": "cMrpc-wFWJBq"
      },
      "execution_count": null,
      "outputs": []
    }
  ]
}