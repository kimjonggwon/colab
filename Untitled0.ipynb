{
  "nbformat": 4,
  "nbformat_minor": 0,
  "metadata": {
    "colab": {
      "name": "Untitled0.ipynb",
      "provenance": [],
      "authorship_tag": "ABX9TyNUBSpNqBakUrk1BEq3H963",
      "include_colab_link": true
    },
    "kernelspec": {
      "name": "python3",
      "display_name": "Python 3"
    },
    "language_info": {
      "name": "python"
    }
  },
  "cells": [
    {
      "cell_type": "markdown",
      "metadata": {
        "id": "view-in-github",
        "colab_type": "text"
      },
      "source": [
        "<a href=\"https://colab.research.google.com/github/kimjonggwon/colab/blob/main/Untitled0.ipynb\" target=\"_parent\"><img src=\"https://colab.research.google.com/assets/colab-badge.svg\" alt=\"Open In Colab\"/></a>"
      ]
    },
    {
      "cell_type": "markdown",
      "source": [
        "3장 연산자\n",
        "형성평가-파운드를 킬로그램으로 변경"
      ],
      "metadata": {
        "id": "4bTAWbXwzWj0"
      }
    },
    {
      "cell_type": "code",
      "execution_count": 2,
      "metadata": {
        "colab": {
          "base_uri": "https://localhost:8080/"
        },
        "id": "6sc7mkCJzNfk",
        "outputId": "032f7bb9-0843-4d75-91cd-a2c3040c8c11"
      },
      "outputs": [
        {
          "output_type": "stream",
          "name": "stdout",
          "text": [
            "파운드를 입력하세요 : 15\n",
            "15.0 파운드는 6.804 킬로그램입니다.\n",
            "킬로그램을 입력하세요 :15\n",
            "15.0 킬로그램은 33.069345000000006 3 파운드입니다.\n"
          ]
        }
      ],
      "source": [
        "pound = float(input(\"파운드를 입력하세요 : \"))\n",
        "kg = pound * 0.453592\n",
        "print(pound, \"파운드는\", round(kg,3), \"킬로그램입니다.\")\n",
        "kg = float(input(\"킬로그램을 입력하세요 :\"))\n",
        "pound = kg * 2.204623\n",
        "print(kg, \"킬로그램은\", pound, 3, \"파운드입니다.\")"
      ]
    },
    {
      "cell_type": "code",
      "source": [],
      "metadata": {
        "id": "tB_5VqTU0dlL"
      },
      "execution_count": null,
      "outputs": []
    }
  ]
}