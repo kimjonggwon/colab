{
  "nbformat": 4,
  "nbformat_minor": 0,
  "metadata": {
    "colab": {
      "name": "Untitled2.ipynb",
      "provenance": [],
      "authorship_tag": "ABX9TyO+6/rp2XciohpSGR7UPrV0",
      "include_colab_link": true
    },
    "kernelspec": {
      "name": "python3",
      "display_name": "Python 3"
    },
    "language_info": {
      "name": "python"
    }
  },
  "cells": [
    {
      "cell_type": "markdown",
      "metadata": {
        "id": "view-in-github",
        "colab_type": "text"
      },
      "source": [
        "<a href=\"https://colab.research.google.com/github/kimjonggwon/colab/blob/main/Untitled2.ipynb\" target=\"_parent\"><img src=\"https://colab.research.google.com/assets/colab-badge.svg\" alt=\"Open In Colab\"/></a>"
      ]
    },
    {
      "cell_type": "markdown",
      "source": [
        "4장"
      ],
      "metadata": {
        "id": "8Uykw_ZEbFKF"
      }
    },
    {
      "cell_type": "code",
      "execution_count": null,
      "metadata": {
        "colab": {
          "base_uri": "https://localhost:8080/"
        },
        "id": "bw02jx2qbBPf",
        "outputId": "f721d020-034a-414f-e2e8-1f0d41da6b4a"
      },
      "outputs": [
        {
          "output_type": "stream",
          "name": "stdout",
          "text": [
            "100 변수의 데이터 타입은  <class 'int'>\n",
            "3.14 변수의 데이터 타입은  <class 'float'>\n",
            "안산공고 변수의 데이터 타입은  <class 'str'>\n",
            "True 변수의 데이터 타입은  <class 'bool'>\n"
          ]
        }
      ],
      "source": [
        "var1 = 100\n",
        "var2 = 3.14\n",
        "var3 = \"안산공고\"\n",
        "var4 = True\n",
        "print(var1, \"변수의 데이터 타입은 \" ,type(var1))\n",
        "print(var2, \"변수의 데이터 타입은 \" ,type(var2))\n",
        "print(var3, \"변수의 데이터 타입은 \" ,type(var3))\n",
        "print(var4, \"변수의 데이터 타입은 \" ,type(var4))"
      ]
    },
    {
      "cell_type": "code",
      "source": [
        "var1 = input(\"첫 번쨰 문자열 ==>\")\n",
        "var2 = input(\"두 번째 문자열 ==>\")\n",
        "\n",
        "len1 = len(var1)\n",
        "len2 = len(var2)\n",
        "          \n",
        "diff = len1 - len2\n",
        "\n",
        "print(\"두 문자열의 길이 차이는\", diff, \"입니다.\")"
      ],
      "metadata": {
        "id": "iUVbnQMjkQvk"
      },
      "execution_count": null,
      "outputs": []
    },
    {
      "cell_type": "code",
      "source": [
        "str1 = input(\"문자열 입력 :\")\n",
        "print(\"입력된 문자열의 길이 :\", len(str1))\n",
        "print(\"입력된 문자열을 대문자로 변환 : \", str1.upper())\n",
        "print(\"입력된 문자열을 소문자로 변환 : \", str1.lower())\n",
        "print(\"입력된 문자열 중 ansan 몇번 나오는지 :\", str1.)"
      ],
      "metadata": {
        "id": "BVLWtDN_n4UU"
      },
      "execution_count": null,
      "outputs": []
    },
    {
      "cell_type": "markdown",
      "source": [
        "리스트 예제"
      ],
      "metadata": {
        "id": "Fu9Ceqo1yfPe"
      }
    },
    {
      "cell_type": "code",
      "source": [
        "myList =[10, 20, 30, \"안산\", \"공고\", \"배트맨\"]\n",
        "#print(myList)\n",
        "print(myList[3])\n",
        "print(myList[2:4])"
      ],
      "metadata": {
        "colab": {
          "base_uri": "https://localhost:8080/"
        },
        "id": "8TiokILbyh_8",
        "outputId": "61280bc4-616d-4adc-bda7-0bc83116ab1e"
      },
      "execution_count": 5,
      "outputs": [
        {
          "output_type": "stream",
          "name": "stdout",
          "text": [
            "안산\n",
            "[30, '안산']\n"
          ]
        }
      ]
    },
    {
      "cell_type": "code",
      "source": [
        "str1 = \"안산공고 컴퓨터과 파이썬 수업\"\n",
        "print(str1[0])\n",
        "print(str1[0:4])\n",
        "print(str1[10:14])\n",
        "print(str1[:14])\n",
        "print(str1[0:])\n",
        "print(str1[-1])"
      ],
      "metadata": {
        "colab": {
          "base_uri": "https://localhost:8080/"
        },
        "id": "A4kSAmNjzMid",
        "outputId": "c41fa463-b46b-4e63-9507-11a686d73398"
      },
      "execution_count": 8,
      "outputs": [
        {
          "output_type": "stream",
          "name": "stdout",
          "text": [
            "안\n",
            "안산공고\n",
            "파이썬 \n",
            "안산공고 컴퓨터과 파이썬 \n",
            "안산공고 컴퓨터과 파이썬 수업\n",
            "업\n"
          ]
        }
      ]
    },
    {
      "cell_type": "code",
      "source": [
        "singer = input(\"가수 이름을 입력 : \")\n",
        "singer_length = len(singer)\n",
        "#print(singer_length)\n",
        "r_singer= \"\"\n",
        "while singer_length > 0 :\n",
        "  r_singer = r_singer + singer[singer_length-1]\n",
        "  singer_length = singer_length -1\n",
        "print(r_singer)"
      ],
      "metadata": {
        "colab": {
          "base_uri": "https://localhost:8080/"
        },
        "id": "L9nFp_6m0QZF",
        "outputId": "6a6ff50f-22bf-492b-95e0-77faa8b1ae8b"
      },
      "execution_count": 9,
      "outputs": [
        {
          "output_type": "stream",
          "name": "stdout",
          "text": [
            "가수 이름을 입력 : 트와이스\n",
            "스이와트\n"
          ]
        }
      ]
    },
    {
      "cell_type": "code",
      "source": [],
      "metadata": {
        "id": "JgzavVXQ4kp9"
      },
      "execution_count": null,
      "outputs": []
    }
  ]
}