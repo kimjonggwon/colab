{
  "nbformat": 4,
  "nbformat_minor": 0,
  "metadata": {
    "colab": {
      "name": "3206김종권(논술형).ipynb",
      "provenance": [],
      "authorship_tag": "ABX9TyORUXie7TMTLI8grqleFvuV",
      "include_colab_link": true
    },
    "kernelspec": {
      "name": "python3",
      "display_name": "Python 3"
    },
    "language_info": {
      "name": "python"
    }
  },
  "cells": [
    {
      "cell_type": "markdown",
      "metadata": {
        "id": "view-in-github",
        "colab_type": "text"
      },
      "source": [
        "<a href=\"https://colab.research.google.com/github/kimjonggwon/colab/blob/main/3206%EA%B9%80%EC%A2%85%EA%B6%8C(%EB%85%BC%EC%88%A0%ED%98%95).ipynb\" target=\"_parent\"><img src=\"https://colab.research.google.com/assets/colab-badge.svg\" alt=\"Open In Colab\"/></a>"
      ]
    },
    {
      "cell_type": "markdown",
      "source": [
        "컴퓨터과 3학년 2반 6번\n",
        "김종권"
      ],
      "metadata": {
        "id": "nKBofJrzEZRx"
      }
    },
    {
      "cell_type": "code",
      "execution_count": null,
      "metadata": {
        "id": "p6D8CWfgESDY"
      },
      "outputs": [],
      "source": [
        "num1 = float(input(\"첫번째 숫자 입력 ==>\"))\n",
        "num2 = float(input(\"두번째 숫자 입력 ==>\"))\n",
        "print(num1, \"+\", num2, \"=\", num1 + num2)\n",
        "print(num1, \"-\", num2, \"=\", num1 - num2)\n",
        "print(num1, \"x\", num2, \"=\", num1 * num2)\n",
        "print(num1, \"/\", num2, \"=\", num1 / num2)\n",
        "print(num1, \"//\", num2, \"=\", num1 // num2)\n",
        "print(num1, \"%\", num2, \"=\", num1 % num2)\n",
        "print(num1, \"**\", num2, \"=\", num1 ** num2)"
      ]
    }
  ]
}