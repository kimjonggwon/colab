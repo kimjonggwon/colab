{
  "nbformat": 4,
  "nbformat_minor": 0,
  "metadata": {
    "colab": {
      "provenance": [],
      "authorship_tag": "ABX9TyPvaQSnGokiNwr2cTBRIxQl",
      "include_colab_link": true
    },
    "kernelspec": {
      "name": "python3",
      "display_name": "Python 3"
    },
    "language_info": {
      "name": "python"
    }
  },
  "cells": [
    {
      "cell_type": "markdown",
      "metadata": {
        "id": "view-in-github",
        "colab_type": "text"
      },
      "source": [
        "<a href=\"https://colab.research.google.com/github/kimjonggwon/colab/blob/main/Untitled5.ipynb\" target=\"_parent\"><img src=\"https://colab.research.google.com/assets/colab-badge.svg\" alt=\"Open In Colab\"/></a>"
      ]
    },
    {
      "cell_type": "markdown",
      "source": [
        "6장 예제"
      ],
      "metadata": {
        "id": "jEQubdNAJ11A"
      }
    },
    {
      "cell_type": "code",
      "execution_count": 2,
      "metadata": {
        "colab": {
          "base_uri": "https://localhost:8080/"
        },
        "id": "Qg3riXzdIWrk",
        "outputId": "1ba3c565-84ed-4e9f-871f-b0963daa55b1"
      },
      "outputs": [
        {
          "output_type": "stream",
          "name": "stdout",
          "text": [
            "안산공고 컴퓨터과 최고\n",
            "하이\n",
            "안산공고 컴퓨터과 최고\n",
            "하이\n",
            "안산공고 컴퓨터과 최고\n",
            "하이\n"
          ]
        }
      ],
      "source": [
        "for i in range(3) :\n",
        "  print(\"안산공고 컴퓨터과 최고\")\n",
        "  print(\"하이\")"
      ]
    },
    {
      "cell_type": "code",
      "source": [
        "myList = [\"가위\", \"바위\", \"보\"]\n",
        "for i in myList\n",
        "  print()"
      ],
      "metadata": {
        "id": "ajS0jdHWKukV"
      },
      "execution_count": null,
      "outputs": []
    },
    {
      "cell_type": "markdown",
      "source": [
        "팩토리얼"
      ],
      "metadata": {
        "id": "_zrytpC7Nlof"
      }
    },
    {
      "cell_type": "code",
      "source": [
        "fact = 1\n",
        "for i in range(1, 6, 1) :\n",
        "  fact = fact * i # 1 * 1 = 1, 1 * 2 = 2, 2 * 3 = 6\n",
        "print(fact)"
      ],
      "metadata": {
        "colab": {
          "base_uri": "https://localhost:8080/"
        },
        "id": "c94_VGK_Lkmm",
        "outputId": "04c5ac57-bc63-4164-ce3b-b6ecfb5348c3"
      },
      "execution_count": 3,
      "outputs": [
        {
          "output_type": "stream",
          "name": "stdout",
          "text": [
            "120\n"
          ]
        }
      ]
    },
    {
      "cell_type": "code",
      "source": [
        "fact = 1\n",
        "friends_num = 5\n",
        "\n",
        "for i in range(1, friends_num + 1, 1):\n",
        "  fact = fact * i\n",
        "\n",
        "  print(\"A, B, C, D, E 학생들을 순서대로 세우는 경우의 수 : \", fact)"
      ],
      "metadata": {
        "id": "09gVFUjGOcCu"
      },
      "execution_count": null,
      "outputs": []
    },
    {
      "cell_type": "code",
      "source": [
        "i, hap = 0, 0\n",
        "for i in range(1001, 2001, 2) :\n",
        "  hap += i\n",
        "\n",
        "print(\"1000에서 2000까지의 홀수의 합 :\", hap)"
      ],
      "metadata": {
        "colab": {
          "base_uri": "https://localhost:8080/"
        },
        "id": "xVHG4-NKO5cG",
        "outputId": "693dfc0d-2329-4ef4-84fd-b85fafdfcbd9"
      },
      "execution_count": 4,
      "outputs": [
        {
          "output_type": "stream",
          "name": "stdout",
          "text": [
            "1000에서 2000까지의 홀수의 합 : 750000\n"
          ]
        }
      ]
    },
    {
      "cell_type": "code",
      "source": [
        "for i in range (3) :\n",
        "  for k in range(2) :\n",
        "    print(\"난생처음은 쉽습니다. ^^ (i값:\", i ,\", k값:\", k,\")\")"
      ],
      "metadata": {
        "id": "eXvshWGgQJuW"
      },
      "execution_count": null,
      "outputs": []
    },
    {
      "cell_type": "code",
      "source": [
        "j = 0\n",
        "j = 0\n",
        "\n",
        "for i in range(2, 10) :\n",
        "  for j in range(1, 10) :\n",
        "    print(i, \"X\", j, \"=\", i * j)\n",
        "    print(\"\")"
      ],
      "metadata": {
        "id": "uXX6IcoNUMNH"
      },
      "execution_count": null,
      "outputs": []
    },
    {
      "cell_type": "code",
      "source": [
        "i=0\n",
        "while (i < 3) :\n",
        "  print(i, \" : 난생처음 파이썬은 재미있습니다. ^^\")\n",
        "  i = i + 1"
      ],
      "metadata": {
        "colab": {
          "base_uri": "https://localhost:8080/"
        },
        "id": "kKXK60FeV50Q",
        "outputId": "6e702231-76e6-4410-bb11-702f5d4f0694"
      },
      "execution_count": 10,
      "outputs": [
        {
          "output_type": "stream",
          "name": "stdout",
          "text": [
            "0  : 난생처음 파이썬은 재미있습니다. ^^\n",
            "1  : 난생처음 파이썬은 재미있습니다. ^^\n",
            "2  : 난생처음 파이썬은 재미있습니다. ^^\n"
          ]
        }
      ]
    },
    {
      "cell_type": "code",
      "source": [
        "hap = 0\n",
        "num1, num2 = 0, 0\n",
        "\n",
        "while True :\n",
        "  num1 = int(input(\"숫자1 ==> \"))\n",
        "  if num1 == 0 :\n",
        "    break\n",
        "  num2 = int(input(\"숫자2 ==> \"))\n",
        "\n",
        "  hap = num1 + num2\n",
        "  print(num1, \"+\", num2, \"=\", hap)"
      ],
      "metadata": {
        "colab": {
          "base_uri": "https://localhost:8080/"
        },
        "id": "mUfPJb4lXDTh",
        "outputId": "d36ba4a8-a03e-4f43-c4f4-b369c3c24f73"
      },
      "execution_count": 12,
      "outputs": [
        {
          "name": "stdout",
          "output_type": "stream",
          "text": [
            "숫자1 ==> 10\n",
            "숫자2 ==> 20\n",
            "10 + 20 = 30\n",
            "숫자1 ==> 30\n",
            "숫자2 ==> 40\n",
            "30 + 40 = 70\n",
            "숫자1 ==> 0\n"
          ]
        }
      ]
    },
    {
      "cell_type": "code",
      "source": [
        "import random\n",
        " \n",
        "count = 0\n",
        "while True :\n",
        "  r1 = random. randint(1,6)\n",
        "  r2 = random. randint(1,6)\n",
        "  r3 = random. randint(1,6)\n",
        "  count = count + 1\n",
        "  if r1 == r2 == r3 :\n",
        "   break\n",
        "print(\"3개의 주사위는 모두 \", r1, \"입니다.\")\n",
        "print(\"같은 숫자가 나오기까지 \", count, \"번 던졌습니다.\")"
      ],
      "metadata": {
        "colab": {
          "base_uri": "https://localhost:8080/"
        },
        "id": "B_7H4TrEYuG5",
        "outputId": "58e228f0-2842-46c0-8fd6-f1bce674aa3e"
      },
      "execution_count": 18,
      "outputs": [
        {
          "output_type": "stream",
          "name": "stdout",
          "text": [
            "3개의 주사위는 모두  2 입니다.\n",
            "같은 숫자가 나오기까지  54 번 던졌습니다.\n"
          ]
        }
      ]
    },
    {
      "cell_type": "code",
      "source": [
        "import random\n",
        "\n",
        "computer, user = 0,0\n",
        "\n",
        "for i in range(1,11) :\n",
        "  computer = random.randint(1, 5)\n",
        "  print(\"게임\", i, \"회:\", end='')\n",
        "  user = int(input(\"컴퓨터가 생각한 숫자는 ? \"))\n",
        "\n",
        "  if computer == user :\n",
        "    print(\"맞혔네요. 축하합니다!!\")\n",
        "    break\n",
        "  else :\n",
        "    print(\"아까워요.\", computer, \"였는데요. 다시 해보세요.ㅠ\")\n",
        "    continue\n",
        "print(\"게임을 마칩니다.\")"
      ],
      "metadata": {
        "colab": {
          "base_uri": "https://localhost:8080/"
        },
        "id": "29DgZM5hb4pK",
        "outputId": "1e4259d5-6364-4e2e-f9df-be07bd78722d"
      },
      "execution_count": 20,
      "outputs": [
        {
          "output_type": "stream",
          "name": "stdout",
          "text": [
            "게임 1 회:컴퓨터가 생각한 숫자는 ? 1\n",
            "맞혔네요. 축하합니다!!\n",
            "게임을 마칩니다.\n"
          ]
        }
      ]
    }
  ]
}