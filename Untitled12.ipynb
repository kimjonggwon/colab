{
  "nbformat": 4,
  "nbformat_minor": 0,
  "metadata": {
    "colab": {
      "provenance": [],
      "authorship_tag": "ABX9TyPCkF0BLFGj4AtjDPZKqeCG",
      "include_colab_link": true
    },
    "kernelspec": {
      "name": "python3",
      "display_name": "Python 3"
    },
    "language_info": {
      "name": "python"
    }
  },
  "cells": [
    {
      "cell_type": "markdown",
      "metadata": {
        "id": "view-in-github",
        "colab_type": "text"
      },
      "source": [
        "<a href=\"https://colab.research.google.com/github/kimjonggwon/colab/blob/main/Untitled12.ipynb\" target=\"_parent\"><img src=\"https://colab.research.google.com/assets/colab-badge.svg\" alt=\"Open In Colab\"/></a>"
      ]
    },
    {
      "cell_type": "code",
      "execution_count": 14,
      "metadata": {
        "colab": {
          "base_uri": "https://localhost:8080/"
        },
        "id": "GL0a4uQ_4uoZ",
        "outputId": "597899a5-9307-41aa-fd3d-f23ec0f4c839"
      },
      "outputs": [
        {
          "output_type": "stream",
          "name": "stdout",
          "text": [
            "** 로또 번호를 추첨합니다. **\n",
            "오늘의 로또 번호 == >  [37, 25, 24, 13, 43, 22]\n"
          ]
        }
      ],
      "source": [
        " import random\n",
        " lotto_num = []\n",
        "def lotto() :\n",
        "  while True :\n",
        "    num = random.randint(1,45)\n",
        "    if num in lotto_num :\n",
        "      num = random.randint(1,45)\n",
        "    else :\n",
        "      lotto_num.append(num)\n",
        "    if len(lotto_num) == 6 :\n",
        "      break\n",
        "  return lotto_num\n",
        "\n",
        "print(\"** 로또 번호를 추첨합니다. **\")\n",
        "print(\"오늘의 로또 번호 == > \", lotto())"
      ]
    },
    {
      "cell_type": "code",
      "source": [
        "from datetime import datetime\n",
        "now = datetime"
      ],
      "metadata": {
        "id": "LlSCXdGx-2z0"
      },
      "execution_count": null,
      "outputs": []
    }
  ]
}