{
  "nbformat": 4,
  "nbformat_minor": 0,
  "metadata": {
    "colab": {
      "name": "Untitled3.ipynb",
      "provenance": [],
      "authorship_tag": "ABX9TyPvKgQRf8uccAffkUo7bljI",
      "include_colab_link": true
    },
    "kernelspec": {
      "name": "python3",
      "display_name": "Python 3"
    },
    "language_info": {
      "name": "python"
    }
  },
  "cells": [
    {
      "cell_type": "markdown",
      "metadata": {
        "id": "view-in-github",
        "colab_type": "text"
      },
      "source": [
        "<a href=\"https://colab.research.google.com/github/kimjonggwon/colab/blob/main/Untitled3.ipynb\" target=\"_parent\"><img src=\"https://colab.research.google.com/assets/colab-badge.svg\" alt=\"Open In Colab\"/></a>"
      ]
    },
    {
      "cell_type": "code",
      "execution_count": null,
      "metadata": {
        "id": "GgtqcLoCSypG"
      },
      "outputs": [],
      "source": [
        "text = \"Python\"\n",
        "change_text = text[0],lower() + text[1],upper() + text[3],upper() + text[4],upper() + text[5],upper()\n",
        "print(\"원본 문자열은 ==> \", text)\n",
        "print(\"변환 문자열은 ==> \", change_text)"
      ]
    },
    {
      "cell_type": "code",
      "source": [
        "ss = \"Python\"\n",
        "print(\"원본 문자열 ==>\", ss)\n",
        "\n",
        "ss2 = \"\"\n",
        "\n",
        "ss2 += ss[0],lower()\n",
        "ss2 += ss[1],upper()\n",
        "ss2 += ss[2],upper()\n",
        "ss2 += ss[3],upper()\n",
        "ss2 += ss[4],upper()\n",
        "ss2 += ss[5],upper()\n",
        "\n",
        "print(\"변환 문자열 ==> \", end='')\n",
        "print(ss2)"
      ],
      "metadata": {
        "id": "ENUv_07oU2OR"
      },
      "execution_count": null,
      "outputs": []
    },
    {
      "cell_type": "code",
      "source": [
        "#!pip3 install ColabTurtle\n",
        "import ColabTurtle.Turtle as turtle\n",
        "\n",
        "turtle,initializeTurtle()\n",
        "turtle,penup()\n",
        "while True :\n",
        "   x = int(input(\"x 좌표 입력 :\"))\n",
        "   if x == 0 : break\n",
        "   y = int(input(\"y 좌표 입력 :\"))\n",
        "   text = input(\"쓰고 싶은 글자 : \")\n",
        "   turtle,goto(x,y)\n",
        "   turtle,write(text)"
      ],
      "metadata": {
        "id": "0fv8NnxdW73h"
      },
      "execution_count": null,
      "outputs": []
    }
  ]
}