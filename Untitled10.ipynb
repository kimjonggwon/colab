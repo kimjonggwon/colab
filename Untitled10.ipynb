{
  "nbformat": 4,
  "nbformat_minor": 0,
  "metadata": {
    "colab": {
      "provenance": [],
      "authorship_tag": "ABX9TyO4IYFCym2wkprkqgx3GdD6",
      "include_colab_link": true
    },
    "kernelspec": {
      "name": "python3",
      "display_name": "Python 3"
    },
    "language_info": {
      "name": "python"
    }
  },
  "cells": [
    {
      "cell_type": "markdown",
      "metadata": {
        "id": "view-in-github",
        "colab_type": "text"
      },
      "source": [
        "<a href=\"https://colab.research.google.com/github/kimjonggwon/colab/blob/main/Untitled10.ipynb\" target=\"_parent\"><img src=\"https://colab.research.google.com/assets/colab-badge.svg\" alt=\"Open In Colab\"/></a>"
      ]
    },
    {
      "cell_type": "code",
      "execution_count": 1,
      "metadata": {
        "colab": {
          "base_uri": "https://localhost:8080/"
        },
        "id": "gEETfJ3jkY3w",
        "outputId": "8947a808-a158-4673-d7ee-4b1190b410c2"
      },
      "outputs": [
        {
          "output_type": "stream",
          "name": "stdout",
          "text": [
            "가수 이름을 입력 : 트와이스\n",
            "스이와트\n"
          ]
        }
      ],
      "source": [
        "singer = input(\"가수 이름을 입력 : \")\n",
        "singer_length = len(singer)\n",
        "#print(singer_length)\n",
        "r_singer= \"\"\n",
        "while singer_length > 0 :\n",
        "  r_singer = r_singer + singer[singer_length-1]\n",
        "  singer_length = singer_length -1\n",
        "print(r_singer)"
      ]
    },
    {
      "cell_type": "code",
      "source": [
        "pound = float(input(\"파운드를 입력하세요 : \"))\n",
        "kg = pound * 0.453592\n",
        "print(pound, \"파운드는\", round(kg,3), \"킬로그램입니다.\")\n",
        "kg = float(input(\"킬로그램을 입력하세요 :\"))\n",
        "pound = kg * 2.204623\n",
        "print(kg, \"킬로그램은\", pound, 3, \"파운드입니다.\")"
      ],
      "metadata": {
        "colab": {
          "base_uri": "https://localhost:8080/"
        },
        "id": "KhSJ2UFA2n6n",
        "outputId": "2804a797-2a11-4180-929e-60ddc886b12b"
      },
      "execution_count": 2,
      "outputs": [
        {
          "output_type": "stream",
          "name": "stdout",
          "text": [
            "파운드를 입력하세요 : 15\n",
            "15.0 파운드는 6.804 킬로그램입니다.\n",
            "킬로그램을 입력하세요 :15\n",
            "15.0 킬로그램은 33.069345000000006 3 파운드입니다.\n"
          ]
        }
      ]
    },
    {
      "cell_type": "code",
      "source": [
        "var1 = input(\"첫 번쨰 문자열 ==>\")\n",
        "var2 = input(\"두 번째 문자열 ==>\")\n",
        "\n",
        "len1 = len(var1)\n",
        "len2 = len(var2)\n",
        "          \n",
        "diff = len1 - len2\n",
        "\n",
        "print(\"두 문자열의 길이 차이는\", diff, \"입니다.\")"
      ],
      "metadata": {
        "id": "dlIticoC4Mj-"
      },
      "execution_count": null,
      "outputs": []
    },
    {
      "cell_type": "code",
      "source": [
        "str1 = input(\"문자열 입력 :\")\n",
        "print(\"입력된 문자열의 길이 :\", len(str1))\n",
        "print(\"입력된 문자열을 대문자로 변환 : \", str1.upper())\n",
        "print(\"입력된 문자열을 소문자로 변환 : \", str1.lower())"
      ],
      "metadata": {
        "colab": {
          "base_uri": "https://localhost:8080/"
        },
        "id": "q52cfQ3y4WE2",
        "outputId": "bbba651e-8721-4bd4-ea81-73e7b66a8e24"
      },
      "execution_count": 5,
      "outputs": [
        {
          "output_type": "stream",
          "name": "stdout",
          "text": [
            "문자열 입력 :Love\n",
            "입력된 문자열의 길이 : 4\n",
            "입력된 문자열을 대문자로 변환 :  LOVE\n",
            "입력된 문자열을 소문자로 변환 :  love\n"
          ]
        }
      ]
    }
  ]
}