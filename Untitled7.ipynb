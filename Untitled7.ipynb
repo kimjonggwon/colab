{
  "nbformat": 4,
  "nbformat_minor": 0,
  "metadata": {
    "colab": {
      "provenance": [],
      "authorship_tag": "ABX9TyOiw69Tj9pZn2+q6AKi3N2M",
      "include_colab_link": true
    },
    "kernelspec": {
      "name": "python3",
      "display_name": "Python 3"
    },
    "language_info": {
      "name": "python"
    }
  },
  "cells": [
    {
      "cell_type": "markdown",
      "metadata": {
        "id": "view-in-github",
        "colab_type": "text"
      },
      "source": [
        "<a href=\"https://colab.research.google.com/github/kimjonggwon/colab/blob/main/Untitled7.ipynb\" target=\"_parent\"><img src=\"https://colab.research.google.com/assets/colab-badge.svg\" alt=\"Open In Colab\"/></a>"
      ]
    },
    {
      "cell_type": "code",
      "execution_count": 1,
      "metadata": {
        "colab": {
          "base_uri": "https://localhost:8080/"
        },
        "id": "VEFg_DbuKuto",
        "outputId": "03101cff-df1a-4a0c-87f4-17a5d08f5159"
      },
      "outputs": [
        {
          "output_type": "stream",
          "name": "stdout",
          "text": [
            " 숫자 : 10\n",
            " 숫자 : 20\n",
            " 숫자 : 30\n",
            " 숫자 : 40\n",
            "합계 ==>  100\n"
          ]
        }
      ],
      "source": [
        "numList = []\n",
        "for i in range(0, 4) :\n",
        "  numList.append(0)\n",
        "hap = 0\n",
        "\n",
        "for i in range(0, 4) :\n",
        "  numList[i] = int(input( \" 숫자 : \"))\n",
        "\n",
        "hap = numList[0] + numList[1] + numList[2] + numList[3]\n",
        "                                                     \n",
        "print(\"합계 ==> \", hap)"
      ]
    },
    {
      "cell_type": "code",
      "source": [
        "import random\n",
        "\n",
        "wise_saying = [\"최선을 다하는 것으로는 충분치 않다. 때로 요구되는 것을 해야만 한다.\",\n",
        "               \"열망이 능력을 가져온다.\",\n",
        "               \"비즈니스 얘기만 하면 그 비즈니스는 빨리 망한다.\",\n",
        "               \"국가가 존재하는 동안에는 자유가 있을 수 없다. 자유가 있으면 국가는 없을 것이다.\",\n",
        "               \"디자인은 사람을 향해있다. 디자인을 한다는 것은 사람이 마주한 문제를 파악하고 최선의 해결책을 실행에 옮기는 것이다.\",\n",
        "               \"적을 선택하는 신중함에 있어서 지나침이란 없다.\"]\n",
        "today = random.randint(0, len(wise_saying)-1)\n",
        "print(\"오늘의 명언 ==>\", wise_saying[today])"
      ],
      "metadata": {
        "colab": {
          "base_uri": "https://localhost:8080/"
        },
        "id": "m-XtP5ytKy4H",
        "outputId": "188902ae-62da-40b0-a328-4e68031ed706"
      },
      "execution_count": 3,
      "outputs": [
        {
          "output_type": "stream",
          "name": "stdout",
          "text": [
            "오늘의 명언 ==> 적을 선택하는 신중함에 있어서 지나침이란 없다.\n"
          ]
        }
      ]
    },
    {
      "cell_type": "markdown",
      "source": [
        "3목 게임 만들기"
      ],
      "metadata": {
        "id": "LSqRKN0BkbfV"
      }
    },
    {
      "cell_type": "code",
      "source": [
        "boardList = [ [1,2,3],\n",
        "              [4,5,6],\n",
        "              [7,8,9]]\n",
        "def display_board() :\n",
        " print(boardList[0][0],\"I\", boardList[0][1],\"I\", boardList[0][2])\n",
        " print(\"--+---+---\")\n",
        " print(boardList[1][0],\"I\", boardList[1][1],\"I\", boardList[1][2])\n",
        " print(\"--+---+---\")\n",
        " print(boardList[2][0],\"I\", boardList[2][1],\"I\", boardList[2][2])\n",
        " \n",
        "display_board()\n",
        "user = int(input(\"위치를 선택 : \"))\n",
        "for x in range(3) :\n",
        "  for y in range(3) :\n",
        "   if user == boardList[x][y]  : boardList[x][y] = \"o\"\n",
        "display_board()"
      ],
      "metadata": {
        "colab": {
          "base_uri": "https://localhost:8080/"
        },
        "id": "ddN1jYQ_fX0S",
        "outputId": "4158b7c1-39b8-4da9-e7e0-4c984750c9b9"
      },
      "execution_count": 7,
      "outputs": [
        {
          "output_type": "stream",
          "name": "stdout",
          "text": [
            "1 I 2 I 3\n",
            "--+---+---\n",
            "4 I 5 I 6\n",
            "--+---+---\n",
            "7 I 8 I 9\n",
            "위치를 선택 : 5\n",
            "1 I 2 I 3\n",
            "--+---+---\n",
            "4 I o I 6\n",
            "--+---+---\n",
            "7 I 8 I 9\n"
          ]
        }
      ]
    },
    {
      "cell_type": "code",
      "source": [
        "from google.colab import output\n",
        "import random\n",
        "usred = [1,2,3,4,5,6,7,8,9]\n",
        "boardList = [ [1,2,3],\n",
        "              [4,5,6],\n",
        "              [7,8,9]]\n",
        "def display_board() :\n",
        "  print(\" \", boardList[0][0],\"I\", boardList[0][1], \"1\", boardList[0][2])\n",
        "  print(\" --+---+---\")\n",
        "  print(\" \", boardList[1][0],\"I\", boardList[1][1], \"1\", boardList[1][2])\n",
        "  print(\" --+---+---\")\n",
        "  print(\" \", boardList[2][0],\"I\", boardList[2][1], \"1\", boardList[2][2])\n",
        "\n",
        "def user_select() :\n",
        "  user = int(input(\"위치를 선택 : \"))\n",
        "  usred.remove(user)\n",
        "  for x in range(3) :\n",
        "   for y in range(3) :\n",
        "     if user == boardList[x][y]  : boardList[x][y] = \"o\"\n",
        "\n",
        "def com_select() :\n",
        "  com = random.choice(usred)\n",
        "  for x in range(3) :\n",
        "    for y in range(3) :\n",
        "      if com == boardList[x][y]  : boardList[x][y] = \"x\"\n",
        "\n",
        "def test(player) :\n",
        "  if boardList[0][0] == boardList[0][1] == boardList[0][2] == player or \\\n",
        "   boardList[1][0] == boardList[1][1] == boardList[1][2] == player or \\\n",
        "   boardList[2][0] == boardList[2][1] == boardList[2][2] == player or \\\n",
        "   boardList[0][0] == boardList[1][1] == boardList[2][2] == player or \\\n",
        "   boardList[0][1] == boardList[1][0] == boardList[2][2] == player or \\\n",
        "   boardList[0][2] == boardList[1][1] == boardList[2][2] == player or \\\n",
        "   boardList[0][0] == boardList[1][2] == boardList[2][2] == player or \\\n",
        "   boardList[0][2] == boardList[1][1] == boardList[2][2] == player :\n",
        "   return player\n",
        "\n",
        "while True :\n",
        "  display_board()\n",
        "  user_select()\n",
        "  if test(\"o\") == \"o\" :\n",
        "    display_board()\n",
        "    print(\"유저 승\")\n",
        "    break\n",
        "  elif len(usred) == 0 :\n",
        "    print(\"비겼다.\")\n",
        "    break\n",
        "  output.clear()\n",
        "  com_select()\n",
        "  output.clear()\n",
        "  if test(\"x\") == \"x\" :\n",
        "    display_board()\n",
        "    print(\"컴퓨터 승\")\n",
        "    break\n",
        "  elif len(usred) == 0 :\n",
        "   print(\"비겼다.\")\n",
        "   break"
      ],
      "metadata": {
        "colab": {
          "base_uri": "https://localhost:8080/"
        },
        "id": "Pp1-TJ3V31OW",
        "outputId": "b6994377-76dc-4275-8bc0-ffee4a15d6d3"
      },
      "execution_count": 10,
      "outputs": [
        {
          "output_type": "stream",
          "name": "stdout",
          "text": [
            "  x I 2 1 x\n",
            " --+---+---\n",
            "  o I o 1 6\n",
            " --+---+---\n",
            "  7 I 8 1 9\n",
            "위치를 선택 : 6\n",
            "  x I 2 1 x\n",
            " --+---+---\n",
            "  o I o 1 o\n",
            " --+---+---\n",
            "  7 I 8 1 9\n",
            "유저 승\n"
          ]
        }
      ]
    }
  ]
}