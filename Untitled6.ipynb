{
  "cells": [
    {
      "cell_type": "markdown",
      "metadata": {
        "id": "view-in-github",
        "colab_type": "text"
      },
      "source": [
        "<a href=\"https://colab.research.google.com/github/kimjonggwon/colab/blob/main/Untitled6.ipynb\" target=\"_parent\"><img src=\"https://colab.research.google.com/assets/colab-badge.svg\" alt=\"Open In Colab\"/></a>"
      ]
    },
    {
      "cell_type": "code",
      "execution_count": null,
      "metadata": {
        "id": "OoW9u9Ek2bRD"
      },
      "outputs": [],
      "source": [
        "import random\n",
        "com_list = [1,2,3,4,5,6,7,8,9]\n",
        "com_num, usr_num = [], []\n",
        "\n",
        "def usr_fun() :\n",
        "  usr = input(\"3개의 숫자를 입력(1~9까지) ==> \")\n",
        "  for i in range(0,5,2) :\n",
        "    usr_num.append(int(usr[i]))\n",
        "\n",
        "# 컴퓨터 - 3개의 중복되지 않는 숫자 만들기  \n",
        "for i in range(3) :\n",
        "  r = random.choice(com_list)\n",
        "  com_list.remove(r)\n",
        "  com_num.append(r)\n",
        "\n",
        "print(\"** 야구 게임 ** \")\n",
        "#스트라이크 및 볼 판정 ---------------------------\n",
        "strike, ball = 0, 0\n",
        "while True :\n",
        "  usr_num.clear()\n",
        "  usr_fun()\n",
        "  for i in range(3) :\n",
        "    if com_num[i] == usr_num[i] :\n",
        "      strike = strike + 1\n",
        "    elif usr_num[i] in com_num :\n",
        "      ball = ball + 1\n",
        "  print(strike, \"스트라이크\", \" : \", ball, \"볼\")\n",
        "  if strike == 3 : \n",
        "    print(\"축하합니다.\")\n",
        "    break\n",
        "  strike, ball = 0, 0"
      ]
    },
    {
      "cell_type": "code",
      "source": [
        "#!pip3 install ColabTurtle\n",
        "import ColabTurtle.Turtle as turtle\n",
        "turtle.initializeTurtle()\n",
        "#print(turtle.DEFAULT_WINDOW_SIZE)\n",
        "turtle.speed(10)\n",
        "color_list = [\"red\", \"blue\", \"green\", \"yellow\", \"violet\"]\n",
        "#help(turtle)\n",
        "for x in range(50, 800, 50) :\n",
        "  for y in range(50, 500, 50) :\n",
        "    turtle.penup()\n",
        "    turtle.goto(x, y)\n",
        "    turtle.forward(1)"
      ],
      "metadata": {
        "colab": {
          "base_uri": "https://localhost:8080/",
          "height": 520
        },
        "id": "bJ0ce48C7EwU",
        "outputId": "098d79d4-8bfe-4d50-bb60-7ff4dd23f144"
      },
      "execution_count": 19,
      "outputs": [
        {
          "output_type": "display_data",
          "data": {
            "text/plain": [
              "<IPython.core.display.HTML object>"
            ],
            "text/html": [
              "\n",
              "      <svg width=\"800\" height=\"500\">\n",
              "        <rect width=\"100%\" height=\"100%\" fill=\"black\"/>\n",
              "        \n",
              "        <g visibility=visible transform=\"rotate(360,750.0,449.0) translate(732.0, 431.0)\">\n",
              "<path style=\" stroke:none;fill-rule:evenodd;fill:white;fill-opacity:1;\" d=\"M 18.214844 0.632812 C 16.109375 1.800781 15.011719 4.074219 15.074219 7.132812 L 15.085938 7.652344 L 14.785156 7.496094 C 13.476562 6.824219 11.957031 6.671875 10.40625 7.066406 C 8.46875 7.550781 6.515625 9.15625 4.394531 11.992188 C 3.0625 13.777344 2.679688 14.636719 3.042969 15.027344 L 3.15625 15.152344 L 3.519531 15.152344 C 4.238281 15.152344 4.828125 14.886719 8.1875 13.039062 C 9.386719 12.378906 10.371094 11.839844 10.378906 11.839844 C 10.386719 11.839844 10.355469 11.929688 10.304688 12.035156 C 9.832031 13.09375 9.257812 14.820312 8.96875 16.078125 C 7.914062 20.652344 8.617188 24.53125 11.070312 27.660156 C 11.351562 28.015625 11.363281 27.914062 10.972656 28.382812 C 8.925781 30.84375 7.945312 33.28125 8.238281 35.1875 C 8.289062 35.527344 8.28125 35.523438 8.917969 35.523438 C 10.941406 35.523438 13.074219 34.207031 15.136719 31.6875 C 15.359375 31.417969 15.328125 31.425781 15.5625 31.574219 C 16.292969 32.042969 18.023438 32.964844 18.175781 32.964844 C 18.335938 32.964844 19.941406 32.210938 20.828125 31.71875 C 20.996094 31.625 21.136719 31.554688 21.136719 31.558594 C 21.203125 31.664062 21.898438 32.414062 22.222656 32.730469 C 23.835938 34.300781 25.5625 35.132812 27.582031 35.300781 C 27.90625 35.328125 27.9375 35.308594 28.007812 34.984375 C 28.382812 33.242188 27.625 30.925781 25.863281 28.425781 L 25.542969 27.96875 L 25.699219 27.785156 C 28.945312 23.960938 29.132812 18.699219 26.257812 11.96875 L 26.207031 11.84375 L 27.945312 12.703125 C 31.53125 14.476562 32.316406 14.800781 33.03125 14.800781 C 33.976562 14.800781 33.78125 13.9375 32.472656 12.292969 C 28.519531 7.355469 25.394531 5.925781 21.921875 7.472656 L 21.558594 7.636719 L 21.578125 7.542969 C 21.699219 6.992188 21.761719 5.742188 21.699219 5.164062 C 21.496094 3.296875 20.664062 1.964844 19.003906 0.855469 C 18.480469 0.503906 18.457031 0.5 18.214844 0.632812\"/>\n",
              "</g>\n",
              "      </svg>\n",
              "    "
            ]
          },
          "metadata": {}
        }
      ]
    }
  ],
  "metadata": {
    "colab": {
      "provenance": [],
      "authorship_tag": "ABX9TyM89l+uqNvDP/b0EtZhv3Tn",
      "include_colab_link": true
    },
    "kernelspec": {
      "display_name": "Python 3",
      "name": "python3"
    },
    "language_info": {
      "name": "python"
    }
  },
  "nbformat": 4,
  "nbformat_minor": 0
}