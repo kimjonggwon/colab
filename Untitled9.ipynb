{
  "nbformat": 4,
  "nbformat_minor": 0,
  "metadata": {
    "colab": {
      "provenance": [],
      "authorship_tag": "ABX9TyPQRdX+G7DMqo6+De718Nq1",
      "include_colab_link": true
    },
    "kernelspec": {
      "name": "python3",
      "display_name": "Python 3"
    },
    "language_info": {
      "name": "python"
    }
  },
  "cells": [
    {
      "cell_type": "markdown",
      "metadata": {
        "id": "view-in-github",
        "colab_type": "text"
      },
      "source": [
        "<a href=\"https://colab.research.google.com/github/kimjonggwon/colab/blob/main/Untitled9.ipynb\" target=\"_parent\"><img src=\"https://colab.research.google.com/assets/colab-badge.svg\" alt=\"Open In Colab\"/></a>"
      ]
    },
    {
      "cell_type": "code",
      "execution_count": 1,
      "metadata": {
        "colab": {
          "base_uri": "https://localhost:8080/"
        },
        "id": "ZisjbdjfTluf",
        "outputId": "25e9e862-95d9-4659-8489-1dd2ad6ee071"
      },
      "outputs": [
        {
          "output_type": "stream",
          "name": "stdout",
          "text": [
            " 숫자 : 10\n",
            " 숫자 : 20\n",
            " 숫자 : 30\n",
            " 숫자 : 40\n",
            "합계 ==>  100\n"
          ]
        }
      ],
      "source": [
        "numList = []\n",
        "for i in range(0, 4) :\n",
        "  numList.append(0)\n",
        "hap = 0\n",
        "\n",
        "for i in range(0, 4) :\n",
        "  numList[i] = int(input( \" 숫자 : \"))\n",
        "\n",
        "hap = numList[0] + numList[1] + numList[2] + numList[3]\n",
        "\n",
        "print(\"합계 ==> \", hap)"
      ]
    },
    {
      "cell_type": "code",
      "source": [
        "score = [0,0,0,0,0]\n",
        "sum, avg = 0,0\n",
        "print(\"김안공 선수 경기가 끝났습니다. ~ 짝짝짝\")\n",
        "\n",
        "for i in range(0,5) :\n",
        "  score[i] = int(input(\"평가 점수 ==> \"))\n",
        "  sum = sum + score[i]\n",
        "avg = sum / 5\n",
        "print(\"심사위원의 평균 점수 ==> \", avg)"
      ],
      "metadata": {
        "colab": {
          "base_uri": "https://localhost:8080/"
        },
        "id": "C8xHd3DYWvmx",
        "outputId": "a53237de-4023-4aff-8ffc-15b9de8f5b5f"
      },
      "execution_count": 2,
      "outputs": [
        {
          "output_type": "stream",
          "name": "stdout",
          "text": [
            "김안공 선수 경기가 끝났습니다. ~ 짝짝짝\n",
            "평가 점수 ==> 8\n",
            "평가 점수 ==> 9\n",
            "평가 점수 ==> 7\n",
            "평가 점수 ==> 8\n",
            "평가 점수 ==> 9\n",
            "심사위원의 평균 점수 ==>  8.2\n"
          ]
        }
      ]
    },
    {
      "cell_type": "code",
      "source": [
        "import random\n",
        "seore = []\n",
        "for i in range(0,10000) :\n",
        "  rock_paper_scissors = [\"가위\", \"바위\", \"보\"]\n",
        "  comA = random.choice(rock_paper_scissors)\n",
        "  comB = random.choice(rock_paper_scissors)\n",
        "  if comA == comB :\n",
        "    score.append(\"비김\")\n",
        "  elif (comA == \"가위\" and comB == \"보\") or \\\n",
        "       (comA == \"바위\" and comB == \"가위\") or \\\n",
        "       (comA == \"보\" and comB == \"바위\") :\n",
        "       score.append(\"comA\")\n",
        "  else :\n",
        "    score.append(\"comB\")\n",
        "print(\"10000번 중 컴퓨터의 A의 승리 : \", score.count(\"comA\"))\n",
        "print(\"10000번 중 컴퓨터의 B의 승리 : \", score.count(\"comB\"))\n",
        "print(\"10000번 중 비긴 경기 :\", score.count(\"비김\"))\n",
        "#print(score.count(\"comA\") + score.count(\"comB\") + score.count(\"비김\"))"
      ],
      "metadata": {
        "colab": {
          "base_uri": "https://localhost:8080/"
        },
        "id": "jB-8UWG_fR2-",
        "outputId": "57117fe5-c901-45c5-bf14-9a0bfcd02ae8"
      },
      "execution_count": 4,
      "outputs": [
        {
          "output_type": "stream",
          "name": "stdout",
          "text": [
            "10000번 중 컴퓨터의 A의 승리 :  3233\n",
            "10000번 중 컴퓨터의 B의 승리 :  3384\n",
            "10000번 중 비긴 경기 : 3383\n"
          ]
        }
      ]
    },
    {
      "cell_type": "code",
      "source": [
        "singer = []\n",
        "singer[\"이름\"] = input(\"이름 ==>\")\n",
        "\n",
        "print(singer)\n"
      ],
      "metadata": {
        "id": "l10kCZj1hZgc"
      },
      "execution_count": null,
      "outputs": []
    }
  ]
}