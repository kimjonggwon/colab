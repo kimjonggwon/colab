{
  "nbformat": 4,
  "nbformat_minor": 0,
  "metadata": {
    "colab": {
      "provenance": [],
      "authorship_tag": "ABX9TyPHs8X8gc31zsOQ1/T6hEV+",
      "include_colab_link": true
    },
    "kernelspec": {
      "name": "python3",
      "display_name": "Python 3"
    },
    "language_info": {
      "name": "python"
    }
  },
  "cells": [
    {
      "cell_type": "markdown",
      "metadata": {
        "id": "view-in-github",
        "colab_type": "text"
      },
      "source": [
        "<a href=\"https://colab.research.google.com/github/kimjonggwon/colab/blob/main/Untitled11.ipynb\" target=\"_parent\"><img src=\"https://colab.research.google.com/assets/colab-badge.svg\" alt=\"Open In Colab\"/></a>"
      ]
    },
    {
      "cell_type": "code",
      "execution_count": null,
      "metadata": {
        "id": "RiMqU7o1jP4h"
      },
      "outputs": [],
      "source": [
        "def hapFunc(user) :\n",
        "  num1 = int(input(\"첫번째 숫자를 입력 : \"))\n",
        "  num2 = int(input(\"두번째 숫자를 입력 : \"))\n",
        "  print(user,\"님의\", \"결과 :\" , num1 + num2)\n",
        "  return num1 + num2\n",
        "\n",
        "hapFunc(\"A\")\n",
        "hapFunc(\"B\")\n"
      ]
    },
    {
      "cell_type": "code",
      "source": [
        "def plus(v1, v2) :\n",
        "  result = 0\n",
        "  result = v1 + v2\n",
        "  return result"
      ],
      "metadata": {
        "id": "PI_STHfblO8T"
      },
      "execution_count": null,
      "outputs": []
    },
    {
      "cell_type": "code",
      "source": [
        "def hapFunc(op, num1, num2) :  \n",
        "  if op == '+' :\n",
        "    return num1 + num2\n",
        "  elif op == '-' :\n",
        "    return num1 - num2\n",
        "  elif op == '*' :\n",
        "    return num1 * num2\n",
        "  elif op == '/' :\n",
        "    return num1 / num2\n",
        "    \n",
        "op = input(\"계산 입력( +, -, *, /) : \")\n",
        "num1 = int(input(\"첫번째 숫자를 입력 : \"))\n",
        "num2 = int(input(\"두번째 숫자를 입력 : \"))\n",
        "print(\"## 계산기 :\", num1, op, num2, \"=\", hapFunc(op, num1, num2))"
      ],
      "metadata": {
        "id": "E878VFyumBX7"
      },
      "execution_count": null,
      "outputs": []
    },
    {
      "cell_type": "code",
      "source": [],
      "metadata": {
        "id": "sVOk6TJrq3zu"
      },
      "execution_count": null,
      "outputs": []
    }
  ]
}